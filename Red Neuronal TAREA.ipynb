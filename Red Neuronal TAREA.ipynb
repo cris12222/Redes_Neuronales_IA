{
 "cells": [
  {
   "cell_type": "markdown",
   "id": "fe8358ccefde9357",
   "metadata": {
    "collapsed": false,
    "jupyter": {
     "outputs_hidden": false
    }
   },
   "source": [
    "# Forward Propagation\n",
    "## Equipo 3\n",
    "###### CORONA TAPIA CRISTIAN GEOVANI\n",
    "###### LEYVA VALENZUELA SEBASTIAN\n",
    "###### SOTO HIGUERA FLOR MARGARITA\n"
   ]
  },
  {
   "cell_type": "code",
   "execution_count": null,
   "id": "initial_id",
   "metadata": {
    "ExecuteTime": {
     "end_time": "2023-11-15T20:21:38.072427Z",
     "start_time": "2023-11-15T20:21:38.057143Z"
    }
   },
   "outputs": [
    {
     "name": "stdout",
     "output_type": "stream",
     "text": [
      "['3 2 1\\n', '-30 20 20 0\\n', '-30 0 20 20\\n', '-10 20 20']\n",
      "['3', '2', '1']\n",
      "[[4.53978687e-05]]\n",
      "[[4.54391049e-05]]\n",
      "[[4.54803785e-05]]\n",
      "[[0.9999546]]\n",
      "[[4.54391049e-05]]\n",
      "[[4.54803785e-05]]\n",
      "[[0.9999546]]\n",
      "[[1.]]\n"
     ]
    }
   ],
   "source": [
    "import numpy as np\n",
    "\n",
    "class Neurona:\n",
    "    def __init__(self, n):\n",
    "        self.b = 1\n",
    "        self.w = np.zeros([n, 1])\n",
    "        for a in range(n):\n",
    "            self.w[a, 0] = np.random.randn() * 0.1\n",
    "\n",
    "    def sigmoide(self, x):\n",
    "        return 1 / (1 + np.exp(-(np.dot(x, self.w) + self.b)))\n",
    "\n",
    "    def __str__(self):\n",
    "        return f'b = {self.b},\\nw =\\n{self.w}'\n",
    "\n",
    "class Capa:\n",
    "    def __init__(self, neuronas, entradas):\n",
    "        self.neuronas = []\n",
    "        for a in range(neuronas):\n",
    "            self.neuronas.append(Neurona(entradas))\n",
    "\n",
    "    def forward_propagation(self, x):\n",
    "        salidas = np.zeros([1, len(self.neuronas)])\n",
    "        for a in range(len(self.neuronas)):\n",
    "            salidas[0, a] = self.neuronas[a].sigmoide(x)\n",
    "        return salidas\n",
    "    def back_propagation(self, error):\n",
    "        a = 1\n",
    "\n",
    "    def __str__(self):\n",
    "        cadena = ''\n",
    "        i = 1\n",
    "        for a in self.neuronas:\n",
    "            cadena += 'Neurona ' + str(i) + ':\\n'\n",
    "            cadena += str(a) + '\\n'\n",
    "            i = i + 1\n",
    "        return cadena\n",
    "\n",
    "\n",
    "class RedNeuronal:\n",
    "    def __init__(self, capas):\n",
    "        self.capas = []\n",
    "        for a in range(1, len(capas)):\n",
    "            self.capas.append(Capa(capas[a], capas[a - 1]))\n",
    "\n",
    "    def forward_propagation(self, x):\n",
    "        for a in range(len(self.capas)):\n",
    "            x = self.capas[a].forward_propagation(x)\n",
    "        return x\n",
    "\n",
    "    def prediccion(self, x):\n",
    "        m = x.shape[0]\n",
    "        print(f'm = {m}')\n",
    "        y = np.zeros([m, 1])\n",
    "        for a in range(m):\n",
    "            y[a] = self.forward_propagation(x[a, :])\n",
    "        return y\n",
    "\n",
    "    def get_costo(self, x, y):\n",
    "        costo = 0\n",
    "        m = len(y)\n",
    "        for a in range(m):\n",
    "            yp = self.forward_propagation(x[a, :])\n",
    "            loss = -(y[a] * np.log(yp) + (1 - y[a]) * np.log(1 - yp))\n",
    "            costo += loss\n",
    "        costo /= m\n",
    "        return costo\n",
    "\n",
    "    def back_propagation(self, x, y):\n",
    "        error = self.get_costo(x, y)\n",
    "\n",
    "    def __str__(self):\n",
    "        cadena = 'Red Neuronal que tiene ' + str(len(self.capas[0].neuronas[0].w)) + ' entradas y ' + str(\n",
    "            len(self.capas)) + ' capas\\n'\n",
    "        i = 1\n",
    "        for a in self.capas:\n",
    "            cadena += 'Capa ' + str(i) + ':\\n'\n",
    "            cadena += str(a) + '\\n'\n",
    "            i = i + 1\n",
    "        return cadena\n",
    "\n",
    "\n",
    "# Leer configuración\n",
    "archivo = open('/datosred.txt')\n",
    "config = archivo.readlines()\n",
    "init = config[0].split()\n",
    "print(config)\n",
    "print(init)\n",
    "# Establecer red\n",
    "linea = 1\n",
    "red = RedNeuronal(list(map(int, init)))\n",
    "for capa in range(1, len(init)):\n",
    "    for nodo in range(int(init[capa])):\n",
    "        config_nodo = list(map(int, config[linea].split()))\n",
    "        neurona = red.capas[capa - 1].neuronas[nodo]\n",
    "        neurona.b = config_nodo[0]\n",
    "        linea += 1\n",
    "        for valor in range(len(config_nodo) - 1):\n",
    "            neurona.w[valor] = config_nodo[valor + 1]\n",
    "\n",
    "# Leer entrada\n",
    "archivo = open('/entrada.txt')\n",
    "datos = [list(map(int, linea.split())) for linea in archivo]\n",
    "# Obtener resultado y guardar\n",
    "with open('/resultado.txt', 'w') as archivo:\n",
    "    for linea in datos:\n",
    "        print(red.forward_propagation(linea))\n",
    "        resultado = red.forward_propagation(linea)\n",
    "        archivo.write(str(np.round(resultado[0][0])) + '\\n')\n"
   ]
  },
  {
   "cell_type": "code",
   "execution_count": null,
   "id": "824d9e42-6fd7-4eff-a18e-fda3ecb40885",
   "metadata": {},
   "outputs": [],
   "source": []
  },
  {
   "cell_type": "code",
   "execution_count": null,
   "id": "f10e6c09-4cbd-43f2-b613-7e01b20c8efd",
   "metadata": {},
   "outputs": [],
   "source": []
  }
 ],
 "metadata": {
  "kernelspec": {
   "display_name": "Python 3 (ipykernel)",
   "language": "python",
   "name": "python3"
  },
  "language_info": {
   "codemirror_mode": {
    "name": "ipython",
    "version": 3
   },
   "file_extension": ".py",
   "mimetype": "text/x-python",
   "name": "python",
   "nbconvert_exporter": "python",
   "pygments_lexer": "ipython3",
   "version": "3.11.4"
  }
 },
 "nbformat": 4,
 "nbformat_minor": 5
}
